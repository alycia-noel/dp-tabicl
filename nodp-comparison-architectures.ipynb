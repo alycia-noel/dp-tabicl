{
 "cells": [
  {
   "cell_type": "code",
   "execution_count": 1,
   "id": "815c9114-413b-40cf-9ee2-c32ae593b58f",
   "metadata": {},
   "outputs": [],
   "source": [
    "import math\n",
    "import warnings\n",
    "\n",
    "import numpy as np\n",
    "import pandas as pd\n",
    "\n",
    "from sklearn.linear_model import LogisticRegression\n",
    "from sklearn.metrics import accuracy_score, precision_recall_fscore_support, classification_report, f1_score\n",
    "from sklearn.ensemble import GradientBoostingClassifier, RandomForestClassifier\n",
    "from sklearn.preprocessing import OneHotEncoder, StandardScaler, OrdinalEncoder\n",
    "from sklearn.compose import make_column_selector as selector\n",
    "from sklearn.compose import ColumnTransformer\n",
    "from sklearn.pipeline import make_pipeline\n",
    "from sklearn.model_selection import train_test_split\n",
    "\n",
    "from lightgbm import LGBMClassifier\n",
    "\n",
    "from pathlib import Path\n",
    "\n",
    "DATA_DIR = Path(\"/home/ancarey/kennedy/karuna_data/original\")\n",
    "warnings.filterwarnings(\"ignore\")"
   ]
  },
  {
   "cell_type": "code",
   "execution_count": 4,
   "id": "e87107c9-3242-4b27-ad6b-4c6914d1a317",
   "metadata": {},
   "outputs": [],
   "source": [
    "def main(dataset, rs):\n",
    "    numerical_columns_selector = selector(dtype_exclude=object)\n",
    "    categorical_columns_selector = selector(dtype_include=object)\n",
    "   \n",
    "    # import pandas data train, test\n",
    "    train_filename = f'{dataset}_original.csv'\n",
    "    test_filename = f'{dataset}_original_test.csv'\n",
    "\n",
    "    df = pd.read_csv(DATA_DIR / dataset/ train_filename)\n",
    "    df = df.dropna(axis=0)\n",
    "    if dataset == 'car':\n",
    "        df['label'] = df['label'].map({0: 0, 1:1, 2:1, 3:1})\n",
    "    if dataset == 'diabetes' or dataset == 'heart':\n",
    "        df['label'] = df['label'].astype('bool')\n",
    "\n",
    "    df_test = pd.read_csv(DATA_DIR / dataset/ test_filename)\n",
    "    df_test = df_test.dropna(axis=0)\n",
    "    if dataset == 'car':\n",
    "        df_test['label'] = df_test['label'].map({0: 0, 1:1, 2:1, 3:1})\n",
    "    if dataset == 'diabetes' or dataset == 'heart':\n",
    "        df_test['label'] = df_test['label'].astype('bool')\n",
    "        \n",
    "    full_data = pd.concat([df, df_test], axis=0, ignore_index=True)\n",
    "    target = full_data['label']\n",
    "    data = full_data.drop(columns=['label'])\n",
    "    X_train, X_test, y_train, y_test = train_test_split(data, target, test_size=.2, random_state=rs)\n",
    "\n",
    "    numerical_columns = numerical_columns_selector(X_train)\n",
    "    categorical_columns = categorical_columns_selector(X_train)\n",
    "    categorical_preprocessor = OneHotEncoder(handle_unknown=\"ignore\")\n",
    "    RF_preprocessor = ColumnTransformer([('one-hot-encoder', categorical_preprocessor, categorical_columns)],\n",
    "                                       remainder=\"passthrough\",\n",
    "                                       )\n",
    "    # LR\n",
    "    # LR = make_pipeline(LR_preprocessor, LogisticRegression(max_iter=500))\n",
    "    # LR.fit(X_train, y_train)\n",
    "    # predictions = LR.predict(X_test)\n",
    "    # acc = accuracy_score(y_test, predictions)\n",
    "    # f1 = f1_score(y_test, predictions)\n",
    "    # print('LR', round(acc, 3), round(f1,3))\n",
    "\n",
    "    # # XGBOOST\n",
    "    # GB = make_pipeline(GB_preprocessor, GradientBoostingClassifier())\n",
    "    # GB.fit(X_train, y_train)\n",
    "    # predictions = GB.predict(X_test)\n",
    "    # acc = accuracy_score(y_test, predictions)\n",
    "    # f1 = f1_score(y_test, predictions)\n",
    "    # print('GB', round(acc, 3), round(f1,3))\n",
    "\n",
    "    # #LGBM \n",
    "    # LGBM = make_pipeline(GB_preprocessor, LGBMClassifier(verbose=-1))\n",
    "    # LGBM.fit(X_train, y_train)\n",
    "    # predictions = LGBM.predict(X_test)\n",
    "    # acc = accuracy_score(y_test, predictions)\n",
    "    # f1 = f1_score(y_test, predictions)\n",
    "    # print('LGBM', round(acc, 3), round(f1,3))\n",
    "\n",
    "    #RF \n",
    "    RF = make_pipeline(RF_preprocessor, RandomForestClassifier())\n",
    "    RF.fit(X_train, y_train)\n",
    "    predictions = RF.predict(X_test)\n",
    "    acc = accuracy_score(y_test, predictions)\n",
    "    f1 = f1_score(y_test, predictions)\n",
    "    print('RF', round(acc, 3), round(f1,3))"
   ]
  },
  {
   "cell_type": "code",
   "execution_count": 12,
   "id": "1ef625c2-f6ef-4638-9fa3-086ab344f52d",
   "metadata": {},
   "outputs": [
    {
     "name": "stdout",
     "output_type": "stream",
     "text": [
      "42\n",
      "RF 0.829 0.83\n",
      "456\n",
      "RF 0.818 0.82\n",
      "8543\n",
      "RF 0.826 0.826\n",
      "12345\n",
      "RF 0.828 0.833\n",
      "99999\n",
      "RF 0.825 0.827\n"
     ]
    }
   ],
   "source": [
    "rs = [42, 456, 8543, 12345, 99999]\n",
    "for r in rs:\n",
    "    print(r)\n",
    "    main('jungle', r)"
   ]
  },
  {
   "cell_type": "code",
   "execution_count": null,
   "id": "d3339080-b5fe-46a9-81b1-6828fe5716de",
   "metadata": {},
   "outputs": [],
   "source": []
  }
 ],
 "metadata": {
  "kernelspec": {
   "display_name": "Python 3 (ipykernel)",
   "language": "python",
   "name": "python3"
  },
  "language_info": {
   "codemirror_mode": {
    "name": "ipython",
    "version": 3
   },
   "file_extension": ".py",
   "mimetype": "text/x-python",
   "name": "python",
   "nbconvert_exporter": "python",
   "pygments_lexer": "ipython3",
   "version": "3.9.18"
  }
 },
 "nbformat": 4,
 "nbformat_minor": 5
}
